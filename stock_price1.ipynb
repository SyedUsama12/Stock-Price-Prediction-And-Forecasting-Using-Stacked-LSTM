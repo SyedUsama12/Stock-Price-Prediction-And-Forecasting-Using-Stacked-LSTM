{
  "nbformat": 4,
  "nbformat_minor": 0,
  "metadata": {
    "colab": {
      "name": "stock price1",
      "provenance": []
    },
    "kernelspec": {
      "name": "python3",
      "display_name": "Python 3"
    },
    "language_info": {
      "name": "python"
    }
  },
  "cells": [
    {
      "cell_type": "code",
      "metadata": {
        "id": "p8WiSO-x-QuL"
      },
      "source": [
        "#using keras and tenserflow\n",
        "\n",
        "import pandas as pd"
      ],
      "execution_count": 49,
      "outputs": []
    },
    {
      "cell_type": "code",
      "metadata": {
        "id": "nV3gCKfDBR6d"
      },
      "source": [
        "df=pd.read_csv(\"/AAPL.csv\")"
      ],
      "execution_count": 50,
      "outputs": []
    },
    {
      "cell_type": "code",
      "metadata": {
        "colab": {
          "base_uri": "https://localhost:8080/",
          "height": 326
        },
        "id": "YyiTf5OgCQqm",
        "outputId": "1c960b86-ae77-4494-9529-fe571d0873a4"
      },
      "source": [
        "df.head()"
      ],
      "execution_count": 51,
      "outputs": [
        {
          "output_type": "execute_result",
          "data": {
            "text/html": [
              "<div>\n",
              "<style scoped>\n",
              "    .dataframe tbody tr th:only-of-type {\n",
              "        vertical-align: middle;\n",
              "    }\n",
              "\n",
              "    .dataframe tbody tr th {\n",
              "        vertical-align: top;\n",
              "    }\n",
              "\n",
              "    .dataframe thead th {\n",
              "        text-align: right;\n",
              "    }\n",
              "</style>\n",
              "<table border=\"1\" class=\"dataframe\">\n",
              "  <thead>\n",
              "    <tr style=\"text-align: right;\">\n",
              "      <th></th>\n",
              "      <th>Unnamed: 0</th>\n",
              "      <th>symbol</th>\n",
              "      <th>date</th>\n",
              "      <th>close</th>\n",
              "      <th>high</th>\n",
              "      <th>low</th>\n",
              "      <th>open</th>\n",
              "      <th>volume</th>\n",
              "      <th>adjClose</th>\n",
              "      <th>adjHigh</th>\n",
              "      <th>adjLow</th>\n",
              "      <th>adjOpen</th>\n",
              "      <th>adjVolume</th>\n",
              "      <th>divCash</th>\n",
              "      <th>splitFactor</th>\n",
              "    </tr>\n",
              "  </thead>\n",
              "  <tbody>\n",
              "    <tr>\n",
              "      <th>0</th>\n",
              "      <td>0</td>\n",
              "      <td>AAPL</td>\n",
              "      <td>2015-05-27 00:00:00+00:00</td>\n",
              "      <td>132.045</td>\n",
              "      <td>132.260</td>\n",
              "      <td>130.05</td>\n",
              "      <td>130.34</td>\n",
              "      <td>45833246</td>\n",
              "      <td>121.682558</td>\n",
              "      <td>121.880685</td>\n",
              "      <td>119.844118</td>\n",
              "      <td>120.111360</td>\n",
              "      <td>45833246</td>\n",
              "      <td>0.0</td>\n",
              "      <td>1.0</td>\n",
              "    </tr>\n",
              "    <tr>\n",
              "      <th>1</th>\n",
              "      <td>1</td>\n",
              "      <td>AAPL</td>\n",
              "      <td>2015-05-28 00:00:00+00:00</td>\n",
              "      <td>131.780</td>\n",
              "      <td>131.950</td>\n",
              "      <td>131.10</td>\n",
              "      <td>131.86</td>\n",
              "      <td>30733309</td>\n",
              "      <td>121.438354</td>\n",
              "      <td>121.595013</td>\n",
              "      <td>120.811718</td>\n",
              "      <td>121.512076</td>\n",
              "      <td>30733309</td>\n",
              "      <td>0.0</td>\n",
              "      <td>1.0</td>\n",
              "    </tr>\n",
              "    <tr>\n",
              "      <th>2</th>\n",
              "      <td>2</td>\n",
              "      <td>AAPL</td>\n",
              "      <td>2015-05-29 00:00:00+00:00</td>\n",
              "      <td>130.280</td>\n",
              "      <td>131.450</td>\n",
              "      <td>129.90</td>\n",
              "      <td>131.23</td>\n",
              "      <td>50884452</td>\n",
              "      <td>120.056069</td>\n",
              "      <td>121.134251</td>\n",
              "      <td>119.705890</td>\n",
              "      <td>120.931516</td>\n",
              "      <td>50884452</td>\n",
              "      <td>0.0</td>\n",
              "      <td>1.0</td>\n",
              "    </tr>\n",
              "    <tr>\n",
              "      <th>3</th>\n",
              "      <td>3</td>\n",
              "      <td>AAPL</td>\n",
              "      <td>2015-06-01 00:00:00+00:00</td>\n",
              "      <td>130.535</td>\n",
              "      <td>131.390</td>\n",
              "      <td>130.05</td>\n",
              "      <td>131.20</td>\n",
              "      <td>32112797</td>\n",
              "      <td>120.291057</td>\n",
              "      <td>121.078960</td>\n",
              "      <td>119.844118</td>\n",
              "      <td>120.903870</td>\n",
              "      <td>32112797</td>\n",
              "      <td>0.0</td>\n",
              "      <td>1.0</td>\n",
              "    </tr>\n",
              "    <tr>\n",
              "      <th>4</th>\n",
              "      <td>4</td>\n",
              "      <td>AAPL</td>\n",
              "      <td>2015-06-02 00:00:00+00:00</td>\n",
              "      <td>129.960</td>\n",
              "      <td>130.655</td>\n",
              "      <td>129.32</td>\n",
              "      <td>129.86</td>\n",
              "      <td>33667627</td>\n",
              "      <td>119.761181</td>\n",
              "      <td>120.401640</td>\n",
              "      <td>119.171406</td>\n",
              "      <td>119.669029</td>\n",
              "      <td>33667627</td>\n",
              "      <td>0.0</td>\n",
              "      <td>1.0</td>\n",
              "    </tr>\n",
              "  </tbody>\n",
              "</table>\n",
              "</div>"
            ],
            "text/plain": [
              "   Unnamed: 0 symbol  ... divCash  splitFactor\n",
              "0           0   AAPL  ...     0.0          1.0\n",
              "1           1   AAPL  ...     0.0          1.0\n",
              "2           2   AAPL  ...     0.0          1.0\n",
              "3           3   AAPL  ...     0.0          1.0\n",
              "4           4   AAPL  ...     0.0          1.0\n",
              "\n",
              "[5 rows x 15 columns]"
            ]
          },
          "metadata": {
            "tags": []
          },
          "execution_count": 51
        }
      ]
    },
    {
      "cell_type": "code",
      "metadata": {
        "id": "bTb5FxCiCzVz"
      },
      "source": [
        "df1=df.reset_index()[\"close\"]"
      ],
      "execution_count": 52,
      "outputs": []
    },
    {
      "cell_type": "code",
      "metadata": {
        "colab": {
          "base_uri": "https://localhost:8080/"
        },
        "id": "_M3jDjqtDhnX",
        "outputId": "0b95bc97-f4e2-498c-bd31-b4fad714a57b"
      },
      "source": [
        "df1"
      ],
      "execution_count": 53,
      "outputs": [
        {
          "output_type": "execute_result",
          "data": {
            "text/plain": [
              "0       132.045\n",
              "1       131.780\n",
              "2       130.280\n",
              "3       130.535\n",
              "4       129.960\n",
              "         ...   \n",
              "1253    314.960\n",
              "1254    313.140\n",
              "1255    319.230\n",
              "1256    316.850\n",
              "1257    318.890\n",
              "Name: close, Length: 1258, dtype: float64"
            ]
          },
          "metadata": {
            "tags": []
          },
          "execution_count": 53
        }
      ]
    },
    {
      "cell_type": "code",
      "metadata": {
        "colab": {
          "base_uri": "https://localhost:8080/"
        },
        "id": "B_q8XlPaDlZ5",
        "outputId": "28528080-eb39-43aa-c9fd-a7d972050d77"
      },
      "source": [
        "df1.shape"
      ],
      "execution_count": 54,
      "outputs": [
        {
          "output_type": "execute_result",
          "data": {
            "text/plain": [
              "(1258,)"
            ]
          },
          "metadata": {
            "tags": []
          },
          "execution_count": 54
        }
      ]
    },
    {
      "cell_type": "code",
      "metadata": {
        "id": "SYBHRDj6Dr6C"
      },
      "source": [
        "import matplotlib.pyplot as plt\n"
      ],
      "execution_count": 55,
      "outputs": []
    },
    {
      "cell_type": "code",
      "metadata": {
        "colab": {
          "base_uri": "https://localhost:8080/",
          "height": 283
        },
        "id": "rAvg0JHuD34C",
        "outputId": "370c52c5-df41-4b74-f0d9-76c587952e82"
      },
      "source": [
        "plt.plot(df1)"
      ],
      "execution_count": 56,
      "outputs": [
        {
          "output_type": "execute_result",
          "data": {
            "text/plain": [
              "[<matplotlib.lines.Line2D at 0x7facfb13dfd0>]"
            ]
          },
          "metadata": {
            "tags": []
          },
          "execution_count": 56
        },
        {
          "output_type": "display_data",
          "data": {
            "image/png": "[encoded data removed]",
            "text/plain": [
              "<Figure size 432x288 with 1 Axes>"
            ]
          },
          "metadata": {
            "tags": [],
            "needs_background": "light"
          }
        }
      ]
    },
    {
      "cell_type": "code",
      "metadata": {
        "colab": {
          "base_uri": "https://localhost:8080/"
        },
        "id": "w2-h42eYD7ih",
        "outputId": "f713c2a5-636a-4f31-e5c2-bb3f5d22d29f"
      },
      "source": [
        "#As we know LSTM is very sensitive to scale of data so we will apply minmax scaler\n",
        "df1"
      ],
      "execution_count": 57,
      "outputs": [
        {
          "output_type": "execute_result",
          "data": {
            "text/plain": [
              "0       132.045\n",
              "1       131.780\n",
              "2       130.280\n",
              "3       130.535\n",
              "4       129.960\n",
              "         ...   \n",
              "1253    314.960\n",
              "1254    313.140\n",
              "1255    319.230\n",
              "1256    316.850\n",
              "1257    318.890\n",
              "Name: close, Length: 1258, dtype: float64"
            ]
          },
          "metadata": {
            "tags": []
          },
          "execution_count": 57
        }
      ]
    },
    {
      "cell_type": "code",
      "metadata": {
        "id": "Ktk4jga6Es1D"
      },
      "source": [
        "import numpy as np\n",
        "from sklearn.preprocessing import MinMaxScaler\n",
        "scaler = MinMaxScaler(feature_range=(0,1))\n",
        "df1=scaler.fit_transform(np.array(df1).reshape(-1,1))"
      ],
      "execution_count": 58,
      "outputs": []
    },
    {
      "cell_type": "code",
      "metadata": {
        "colab": {
          "base_uri": "https://localhost:8080/"
        },
        "id": "vB8nw0ktFb0Q",
        "outputId": "4ebc4d59-eeff-4639-9827-4107d035a5c6"
      },
      "source": [
        "print(df1)"
      ],
      "execution_count": 59,
      "outputs": [
        {
          "output_type": "stream",
          "text": [
            "[[0.17607447]\n",
            " [0.17495567]\n",
            " [0.16862282]\n",
            " ...\n",
            " [0.96635143]\n",
            " [0.9563033 ]\n",
            " [0.96491598]]\n"
          ],
          "name": "stdout"
        }
      ]
    },
    {
      "cell_type": "code",
      "metadata": {
        "id": "ujRxXpNjFroL"
      },
      "source": [
        "#splitting the data set in to train and test split"
      ],
      "execution_count": 60,
      "outputs": []
    },
    {
      "cell_type": "code",
      "metadata": {
        "id": "nUZFuhZWG0dS"
      },
      "source": [
        "training_size=int(len(df1)*0.65)\n",
        "test_size=len(df1)-training_size \n",
        "train_data,test_data=df1[0:training_size,:],df1[training_size:len(df1),:1]"
      ],
      "execution_count": 61,
      "outputs": []
    },
    {
      "cell_type": "code",
      "metadata": {
        "colab": {
          "base_uri": "https://localhost:8080/"
        },
        "id": "ZABO-DQpIA3d",
        "outputId": "740b5fe4-f20a-4f7d-e485-56242e9534ca"
      },
      "source": [
        "len(train_data)"
      ],
      "execution_count": 62,
      "outputs": [
        {
          "output_type": "execute_result",
          "data": {
            "text/plain": [
              "817"
            ]
          },
          "metadata": {
            "tags": []
          },
          "execution_count": 62
        }
      ]
    },
    {
      "cell_type": "code",
      "metadata": {
        "colab": {
          "base_uri": "https://localhost:8080/"
        },
        "id": "vLq_-tGyIImU",
        "outputId": "f9463c92-e92f-49b0-d459-e1bc7e56b18c"
      },
      "source": [
        "len(test_data)"
      ],
      "execution_count": 63,
      "outputs": [
        {
          "output_type": "execute_result",
          "data": {
            "text/plain": [
              "441"
            ]
          },
          "metadata": {
            "tags": []
          },
          "execution_count": 63
        }
      ]
    },
    {
      "cell_type": "code",
      "metadata": {
        "id": "nSyqM_xsILMz"
      },
      "source": [
        "import numpy as np\n",
        "#convery an array of value into dataset matrix\n",
        "def create_dataset(dataset,time_step=1):\n",
        "  datax,datay=[],[]\n",
        "  for i in range(len(dataset)-time_step-1):\n",
        "    a=dataset[i:(i+time_step),0]\n",
        "    datax.append(a)\n",
        "    datay.append(dataset[i+time_step,0])\n",
        "  return np.array(datax),np.array(datay)"
      ],
      "execution_count": 64,
      "outputs": []
    },
    {
      "cell_type": "code",
      "metadata": {
        "colab": {
          "base_uri": "https://localhost:8080/"
        },
        "id": "Eca4dJu7Lb9r",
        "outputId": "9f1f71bc-9851-4f78-86f1-85297b196353"
      },
      "source": [
        "time_step=100\n",
        "x_train, y_train=create_dataset(train_data,time_step)\n",
        "x_test, y_test=create_dataset(test_data,time_step)\n",
        "print(x_train)"
      ],
      "execution_count": 65,
      "outputs": [
        {
          "output_type": "stream",
          "text": [
            "[[0.17607447 0.17495567 0.16862282 ... 0.09055982 0.08388922 0.09085536]\n",
            " [0.17495567 0.16862282 0.1696994  ... 0.08388922 0.09085536 0.0873934 ]\n",
            " [0.16862282 0.1696994  0.16727181 ... 0.09085536 0.0873934  0.09030651]\n",
            " ...\n",
            " [0.34801148 0.32930845 0.32145571 ... 0.50042219 0.50413747 0.5062062 ]\n",
            " [0.32930845 0.32145571 0.32694419 ... 0.50413747 0.5062062  0.51920966]\n",
            " [0.32145571 0.32694419 0.32230009 ... 0.5062062  0.51920966 0.53719497]]\n"
          ],
          "name": "stdout"
        }
      ]
    },
    {
      "cell_type": "code",
      "metadata": {
        "colab": {
          "base_uri": "https://localhost:8080/"
        },
        "id": "6YkDzIbqOh5a",
        "outputId": "c2493d03-05fc-4b17-8a67-e505987a60a6"
      },
      "source": [
        "print(x_train.shape), print(x_test.shape)"
      ],
      "execution_count": 66,
      "outputs": [
        {
          "output_type": "stream",
          "text": [
            "(716, 100)\n",
            "(340, 100)\n"
          ],
          "name": "stdout"
        },
        {
          "output_type": "execute_result",
          "data": {
            "text/plain": [
              "(None, None)"
            ]
          },
          "metadata": {
            "tags": []
          },
          "execution_count": 66
        }
      ]
    },
    {
      "cell_type": "code",
      "metadata": {
        "colab": {
          "base_uri": "https://localhost:8080/"
        },
        "id": "7BLvrmRUPhVt",
        "outputId": "f7e01b2b-3f2d-4626-9776-f64f9c09af8b"
      },
      "source": [
        "print(y_train.shape), print(y_test.shape)"
      ],
      "execution_count": 67,
      "outputs": [
        {
          "output_type": "stream",
          "text": [
            "(716,)\n",
            "(340,)\n"
          ],
          "name": "stdout"
        },
        {
          "output_type": "execute_result",
          "data": {
            "text/plain": [
              "(None, None)"
            ]
          },
          "metadata": {
            "tags": []
          },
          "execution_count": 67
        }
      ]
    },
    {
      "cell_type": "code",
      "metadata": {
        "id": "E9ByXKnuRgGT"
      },
      "source": [
        "#Reshaping input into sample timestep and features\n",
        "x_train=x_train.reshape(x_train.shape[0],x_train.shape[1],1)\n",
        "x_test=x_test.reshape(x_test.shape[0],x_test.shape[1],1)"
      ],
      "execution_count": 97,
      "outputs": []
    },
    {
      "cell_type": "code",
      "metadata": {
        "id": "JLYBf3dbPmnc"
      },
      "source": [
        "#create LSTM model\n",
        "from tensorflow.keras.models import Sequential\n",
        "from tensorflow.keras.layers import Dense\n",
        "from tensorflow.keras.layers import LSTM"
      ],
      "execution_count": 95,
      "outputs": []
    },
    {
      "cell_type": "code",
      "metadata": {
        "id": "Ied4_7O5UAT6"
      },
      "source": [
        ""
      ],
      "execution_count": 93,
      "outputs": []
    },
    {
      "cell_type": "code",
      "metadata": {
        "id": "6jghd-4yQT8R"
      },
      "source": [
        "model = Sequential()\n",
        "model.add(LSTM(50,return_sequences=True,input_shape=(100,1)))\n",
        "model.add(LSTM(50,return_sequences=True))\n",
        "model.add(LSTM(50))\n",
        "model.add(Dense(1))\n",
        "model.compile(loss=\"mean_squared_error\",optimizer=\"adam\")\n",
        "\n"
      ],
      "execution_count": 96,
      "outputs": []
    },
    {
      "cell_type": "code",
      "metadata": {
        "colab": {
          "base_uri": "https://localhost:8080/"
        },
        "id": "BpROJoXzS3F7",
        "outputId": "11d21780-e399-473e-a5fa-109d690d7420"
      },
      "source": [
        "model.summary()"
      ],
      "execution_count": 99,
      "outputs": [
        {
          "output_type": "stream",
          "text": [
            "Model: \"sequential_5\"\n",
            "_________________________________________________________________\n",
            "Layer (type)                 Output Shape              Param #   \n",
            "=================================================================\n",
            "lstm (LSTM)                  (None, 100, 50)           10400     \n",
            "_________________________________________________________________\n",
            "lstm_1 (LSTM)                (None, 100, 50)           20200     \n",
            "_________________________________________________________________\n",
            "lstm_2 (LSTM)                (None, 50)                20200     \n",
            "_________________________________________________________________\n",
            "dense_3 (Dense)              (None, 1)                 51        \n",
            "=================================================================\n",
            "Total params: 50,851\n",
            "Trainable params: 50,851\n",
            "Non-trainable params: 0\n",
            "_________________________________________________________________\n"
          ],
          "name": "stdout"
        }
      ]
    },
    {
      "cell_type": "code",
      "metadata": {
        "colab": {
          "base_uri": "https://localhost:8080/"
        },
        "id": "ckxqGygRVMdB",
        "outputId": "d2eb953f-17e5-460e-d0b6-ec9ee316f277"
      },
      "source": [
        "model.fit(x_train,y_train,validation_data=(x_test,y_test),epochs=100,batch_size=64,verbose=1)"
      ],
      "execution_count": 100,
      "outputs": [
        {
          "output_type": "stream",
          "text": [
            "Epoch 1/100\n",
            "12/12 [==============================] - 9s 309ms/step - loss: 0.0150 - val_loss: 0.0537\n",
            "Epoch 2/100\n",
            "12/12 [==============================] - 2s 202ms/step - loss: 0.0031 - val_loss: 0.0040\n",
            "Epoch 3/100\n",
            "12/12 [==============================] - 2s 205ms/step - loss: 8.7354e-04 - val_loss: 0.0096\n",
            "Epoch 4/100\n",
            "12/12 [==============================] - 2s 207ms/step - loss: 7.7105e-04 - val_loss: 0.0038\n",
            "Epoch 5/100\n",
            "12/12 [==============================] - 2s 209ms/step - loss: 6.1739e-04 - val_loss: 0.0037\n",
            "Epoch 6/100\n",
            "12/12 [==============================] - 2s 208ms/step - loss: 5.8948e-04 - val_loss: 0.0038\n",
            "Epoch 7/100\n",
            "12/12 [==============================] - 2s 203ms/step - loss: 5.8508e-04 - val_loss: 0.0037\n",
            "Epoch 8/100\n",
            "12/12 [==============================] - 2s 206ms/step - loss: 5.8362e-04 - val_loss: 0.0038\n",
            "Epoch 9/100\n",
            "12/12 [==============================] - 2s 207ms/step - loss: 6.1402e-04 - val_loss: 0.0034\n",
            "Epoch 10/100\n",
            "12/12 [==============================] - 2s 196ms/step - loss: 5.9178e-04 - val_loss: 0.0034\n",
            "Epoch 11/100\n",
            "12/12 [==============================] - 2s 195ms/step - loss: 5.8335e-04 - val_loss: 0.0037\n",
            "Epoch 12/100\n",
            "12/12 [==============================] - 2s 196ms/step - loss: 5.7876e-04 - val_loss: 0.0033\n",
            "Epoch 13/100\n",
            "12/12 [==============================] - 2s 209ms/step - loss: 5.3911e-04 - val_loss: 0.0031\n",
            "Epoch 14/100\n",
            "12/12 [==============================] - 2s 200ms/step - loss: 5.7679e-04 - val_loss: 0.0030\n",
            "Epoch 15/100\n",
            "12/12 [==============================] - 2s 194ms/step - loss: 5.1404e-04 - val_loss: 0.0028\n",
            "Epoch 16/100\n",
            "12/12 [==============================] - 2s 197ms/step - loss: 5.2560e-04 - val_loss: 0.0029\n",
            "Epoch 17/100\n",
            "12/12 [==============================] - 2s 203ms/step - loss: 5.5140e-04 - val_loss: 0.0032\n",
            "Epoch 18/100\n",
            "12/12 [==============================] - 2s 201ms/step - loss: 5.0162e-04 - val_loss: 0.0027\n",
            "Epoch 19/100\n",
            "12/12 [==============================] - 2s 200ms/step - loss: 4.9385e-04 - val_loss: 0.0025\n",
            "Epoch 20/100\n",
            "12/12 [==============================] - 2s 195ms/step - loss: 4.7421e-04 - val_loss: 0.0031\n",
            "Epoch 21/100\n",
            "12/12 [==============================] - 2s 204ms/step - loss: 4.5758e-04 - val_loss: 0.0025\n",
            "Epoch 22/100\n",
            "12/12 [==============================] - 2s 204ms/step - loss: 4.4324e-04 - val_loss: 0.0022\n",
            "Epoch 23/100\n",
            "12/12 [==============================] - 2s 204ms/step - loss: 4.5733e-04 - val_loss: 0.0022\n",
            "Epoch 24/100\n",
            "12/12 [==============================] - 2s 207ms/step - loss: 4.5312e-04 - val_loss: 0.0021\n",
            "Epoch 25/100\n",
            "12/12 [==============================] - 2s 198ms/step - loss: 4.2872e-04 - val_loss: 0.0027\n",
            "Epoch 26/100\n",
            "12/12 [==============================] - 2s 194ms/step - loss: 4.2714e-04 - val_loss: 0.0019\n",
            "Epoch 27/100\n",
            "12/12 [==============================] - 2s 202ms/step - loss: 4.7813e-04 - val_loss: 0.0019\n",
            "Epoch 28/100\n",
            "12/12 [==============================] - 2s 195ms/step - loss: 4.0466e-04 - val_loss: 0.0018\n",
            "Epoch 29/100\n",
            "12/12 [==============================] - 2s 200ms/step - loss: 4.5640e-04 - val_loss: 0.0019\n",
            "Epoch 30/100\n",
            "12/12 [==============================] - 2s 200ms/step - loss: 4.2965e-04 - val_loss: 0.0018\n",
            "Epoch 31/100\n",
            "12/12 [==============================] - 2s 193ms/step - loss: 3.9828e-04 - val_loss: 0.0019\n",
            "Epoch 32/100\n",
            "12/12 [==============================] - 2s 194ms/step - loss: 3.7805e-04 - val_loss: 0.0017\n",
            "Epoch 33/100\n",
            "12/12 [==============================] - 2s 199ms/step - loss: 3.8553e-04 - val_loss: 0.0028\n",
            "Epoch 34/100\n",
            "12/12 [==============================] - 2s 203ms/step - loss: 3.8800e-04 - val_loss: 0.0016\n",
            "Epoch 35/100\n",
            "12/12 [==============================] - 2s 199ms/step - loss: 3.9788e-04 - val_loss: 0.0021\n",
            "Epoch 36/100\n",
            "12/12 [==============================] - 2s 206ms/step - loss: 3.6039e-04 - val_loss: 0.0018\n",
            "Epoch 37/100\n",
            "12/12 [==============================] - 2s 202ms/step - loss: 3.4220e-04 - val_loss: 0.0015\n",
            "Epoch 38/100\n",
            "12/12 [==============================] - 3s 217ms/step - loss: 3.4532e-04 - val_loss: 0.0016\n",
            "Epoch 39/100\n",
            "12/12 [==============================] - 2s 200ms/step - loss: 3.6684e-04 - val_loss: 0.0031\n",
            "Epoch 40/100\n",
            "12/12 [==============================] - 2s 201ms/step - loss: 3.9002e-04 - val_loss: 0.0020\n",
            "Epoch 41/100\n",
            "12/12 [==============================] - 2s 200ms/step - loss: 3.3511e-04 - val_loss: 0.0017\n",
            "Epoch 42/100\n",
            "12/12 [==============================] - 2s 198ms/step - loss: 3.2461e-04 - val_loss: 0.0016\n",
            "Epoch 43/100\n",
            "12/12 [==============================] - 2s 196ms/step - loss: 3.4932e-04 - val_loss: 0.0017\n",
            "Epoch 44/100\n",
            "12/12 [==============================] - 2s 200ms/step - loss: 3.0749e-04 - val_loss: 0.0015\n",
            "Epoch 45/100\n",
            "12/12 [==============================] - 2s 201ms/step - loss: 3.4003e-04 - val_loss: 0.0021\n",
            "Epoch 46/100\n",
            "12/12 [==============================] - 2s 206ms/step - loss: 2.9036e-04 - val_loss: 0.0015\n",
            "Epoch 47/100\n",
            "12/12 [==============================] - 2s 206ms/step - loss: 2.8600e-04 - val_loss: 0.0015\n",
            "Epoch 48/100\n",
            "12/12 [==============================] - 2s 201ms/step - loss: 2.9145e-04 - val_loss: 0.0017\n",
            "Epoch 49/100\n",
            "12/12 [==============================] - 2s 205ms/step - loss: 2.9279e-04 - val_loss: 0.0014\n",
            "Epoch 50/100\n",
            "12/12 [==============================] - 2s 207ms/step - loss: 2.7672e-04 - val_loss: 0.0019\n",
            "Epoch 51/100\n",
            "12/12 [==============================] - 2s 207ms/step - loss: 2.6897e-04 - val_loss: 0.0015\n",
            "Epoch 52/100\n",
            "12/12 [==============================] - 2s 203ms/step - loss: 3.4011e-04 - val_loss: 0.0027\n",
            "Epoch 53/100\n",
            "12/12 [==============================] - 2s 197ms/step - loss: 3.3389e-04 - val_loss: 0.0014\n",
            "Epoch 54/100\n",
            "12/12 [==============================] - 2s 202ms/step - loss: 2.8860e-04 - val_loss: 0.0018\n",
            "Epoch 55/100\n",
            "12/12 [==============================] - 2s 202ms/step - loss: 2.5824e-04 - val_loss: 0.0014\n",
            "Epoch 56/100\n",
            "12/12 [==============================] - 2s 200ms/step - loss: 2.5333e-04 - val_loss: 0.0013\n",
            "Epoch 57/100\n",
            "12/12 [==============================] - 2s 200ms/step - loss: 2.7246e-04 - val_loss: 0.0017\n",
            "Epoch 58/100\n",
            "12/12 [==============================] - 2s 199ms/step - loss: 2.4609e-04 - val_loss: 0.0022\n",
            "Epoch 59/100\n",
            "12/12 [==============================] - 2s 203ms/step - loss: 2.6089e-04 - val_loss: 0.0013\n",
            "Epoch 60/100\n",
            "12/12 [==============================] - 2s 205ms/step - loss: 2.3841e-04 - val_loss: 0.0016\n",
            "Epoch 61/100\n",
            "12/12 [==============================] - 2s 203ms/step - loss: 2.3640e-04 - val_loss: 0.0013\n",
            "Epoch 62/100\n",
            "12/12 [==============================] - 2s 202ms/step - loss: 2.1903e-04 - val_loss: 0.0014\n",
            "Epoch 63/100\n",
            "12/12 [==============================] - 2s 203ms/step - loss: 2.4054e-04 - val_loss: 0.0015\n",
            "Epoch 64/100\n",
            "12/12 [==============================] - 2s 200ms/step - loss: 2.7365e-04 - val_loss: 0.0022\n",
            "Epoch 65/100\n",
            "12/12 [==============================] - 2s 199ms/step - loss: 2.3600e-04 - val_loss: 0.0013\n",
            "Epoch 66/100\n",
            "12/12 [==============================] - 2s 195ms/step - loss: 2.5851e-04 - val_loss: 0.0026\n",
            "Epoch 67/100\n",
            "12/12 [==============================] - 2s 200ms/step - loss: 2.3884e-04 - val_loss: 0.0012\n",
            "Epoch 68/100\n",
            "12/12 [==============================] - 2s 199ms/step - loss: 2.0431e-04 - val_loss: 0.0014\n",
            "Epoch 69/100\n",
            "12/12 [==============================] - 2s 202ms/step - loss: 1.9897e-04 - val_loss: 0.0013\n",
            "Epoch 70/100\n",
            "12/12 [==============================] - 2s 199ms/step - loss: 2.0776e-04 - val_loss: 0.0011\n",
            "Epoch 71/100\n",
            "12/12 [==============================] - 3s 212ms/step - loss: 1.9044e-04 - val_loss: 0.0013\n",
            "Epoch 72/100\n",
            "12/12 [==============================] - 3s 211ms/step - loss: 1.9996e-04 - val_loss: 0.0011\n",
            "Epoch 73/100\n",
            "12/12 [==============================] - 3s 210ms/step - loss: 2.1468e-04 - val_loss: 0.0013\n",
            "Epoch 74/100\n",
            "12/12 [==============================] - 2s 206ms/step - loss: 2.1917e-04 - val_loss: 0.0015\n",
            "Epoch 75/100\n",
            "12/12 [==============================] - 3s 210ms/step - loss: 1.9346e-04 - val_loss: 0.0012\n",
            "Epoch 76/100\n",
            "12/12 [==============================] - 2s 203ms/step - loss: 1.9267e-04 - val_loss: 0.0011\n",
            "Epoch 77/100\n",
            "12/12 [==============================] - 2s 200ms/step - loss: 2.5093e-04 - val_loss: 0.0014\n",
            "Epoch 78/100\n",
            "12/12 [==============================] - 2s 197ms/step - loss: 1.7185e-04 - val_loss: 0.0011\n",
            "Epoch 79/100\n",
            "12/12 [==============================] - 2s 202ms/step - loss: 1.8312e-04 - val_loss: 9.9501e-04\n",
            "Epoch 80/100\n",
            "12/12 [==============================] - 2s 196ms/step - loss: 1.6645e-04 - val_loss: 0.0010\n",
            "Epoch 81/100\n",
            "12/12 [==============================] - 2s 199ms/step - loss: 1.7233e-04 - val_loss: 0.0013\n",
            "Epoch 82/100\n",
            "12/12 [==============================] - 2s 200ms/step - loss: 1.6764e-04 - val_loss: 9.7537e-04\n",
            "Epoch 83/100\n",
            "12/12 [==============================] - 2s 207ms/step - loss: 1.5310e-04 - val_loss: 0.0010\n",
            "Epoch 84/100\n",
            "12/12 [==============================] - 2s 202ms/step - loss: 1.4866e-04 - val_loss: 0.0010\n",
            "Epoch 85/100\n",
            "12/12 [==============================] - 2s 199ms/step - loss: 1.4827e-04 - val_loss: 9.8167e-04\n",
            "Epoch 86/100\n",
            "12/12 [==============================] - 2s 206ms/step - loss: 1.4846e-04 - val_loss: 9.3172e-04\n",
            "Epoch 87/100\n",
            "12/12 [==============================] - 2s 207ms/step - loss: 1.4418e-04 - val_loss: 0.0011\n",
            "Epoch 88/100\n",
            "12/12 [==============================] - 2s 207ms/step - loss: 1.4499e-04 - val_loss: 0.0010\n",
            "Epoch 89/100\n",
            "12/12 [==============================] - 2s 203ms/step - loss: 1.5728e-04 - val_loss: 9.3892e-04\n",
            "Epoch 90/100\n",
            "12/12 [==============================] - 2s 205ms/step - loss: 1.7748e-04 - val_loss: 0.0010\n",
            "Epoch 91/100\n",
            "12/12 [==============================] - 2s 205ms/step - loss: 1.8431e-04 - val_loss: 0.0011\n",
            "Epoch 92/100\n",
            "12/12 [==============================] - 2s 208ms/step - loss: 1.5359e-04 - val_loss: 9.3183e-04\n",
            "Epoch 93/100\n",
            "12/12 [==============================] - 2s 206ms/step - loss: 1.4084e-04 - val_loss: 0.0013\n",
            "Epoch 94/100\n",
            "12/12 [==============================] - 2s 200ms/step - loss: 1.3303e-04 - val_loss: 0.0011\n",
            "Epoch 95/100\n",
            "12/12 [==============================] - 2s 198ms/step - loss: 1.5011e-04 - val_loss: 8.4994e-04\n",
            "Epoch 96/100\n",
            "12/12 [==============================] - 2s 199ms/step - loss: 1.4595e-04 - val_loss: 0.0013\n",
            "Epoch 97/100\n",
            "12/12 [==============================] - 2s 199ms/step - loss: 1.4010e-04 - val_loss: 9.6582e-04\n",
            "Epoch 98/100\n",
            "12/12 [==============================] - 2s 198ms/step - loss: 1.2021e-04 - val_loss: 0.0012\n",
            "Epoch 99/100\n",
            "12/12 [==============================] - 2s 200ms/step - loss: 1.2827e-04 - val_loss: 7.9855e-04\n",
            "Epoch 100/100\n",
            "12/12 [==============================] - 2s 208ms/step - loss: 1.2265e-04 - val_loss: 7.9927e-04\n"
          ],
          "name": "stdout"
        },
        {
          "output_type": "execute_result",
          "data": {
            "text/plain": [
              "<tensorflow.python.keras.callbacks.History at 0x7facf6e93850>"
            ]
          },
          "metadata": {
            "tags": []
          },
          "execution_count": 100
        }
      ]
    },
    {
      "cell_type": "code",
      "metadata": {
        "id": "kbirn76jXZFu"
      },
      "source": [
        "#lets predict and check perfromance matrix\n",
        "train_predict=model.predict(x_train)\n",
        "test_predict=model.predict(x_test)"
      ],
      "execution_count": 126,
      "outputs": []
    },
    {
      "cell_type": "code",
      "metadata": {
        "id": "hexwY2T-YS2W"
      },
      "source": [
        "#transform to original form\n",
        "train_predict=scaler.inverse_transform(train_predict)\n",
        "test_predict=scaler.inverse_transform(test_predict)"
      ],
      "execution_count": 127,
      "outputs": []
    },
    {
      "cell_type": "code",
      "metadata": {
        "colab": {
          "base_uri": "https://localhost:8080/"
        },
        "id": "U9Npy3R0Zx08",
        "outputId": "ee1b7a35-92c2-4121-c400-3b4ebe55d460"
      },
      "source": [
        "#calculate RMSE performance matrix\n",
        "import math\n",
        "from sklearn.metrics import mean_squared_error\n",
        "math.sqrt(mean_squared_error(y_train,train_predict))"
      ],
      "execution_count": 128,
      "outputs": [
        {
          "output_type": "execute_result",
          "data": {
            "text/plain": [
              "142.49975176799595"
            ]
          },
          "metadata": {
            "tags": []
          },
          "execution_count": 128
        }
      ]
    },
    {
      "cell_type": "code",
      "metadata": {
        "id": "_wvZG44Gb-he"
      },
      "source": [
        ""
      ],
      "execution_count": 128,
      "outputs": []
    },
    {
      "cell_type": "code",
      "metadata": {
        "colab": {
          "base_uri": "https://localhost:8080/"
        },
        "id": "KkChJy6EaTT_",
        "outputId": "78333318-2cb0-4509-c6d6-664c51500470"
      },
      "source": [
        "math.sqrt(mean_squared_error(y_test,test_predict))"
      ],
      "execution_count": 129,
      "outputs": [
        {
          "output_type": "execute_result",
          "data": {
            "text/plain": [
              "239.14624860250728"
            ]
          },
          "metadata": {
            "tags": []
          },
          "execution_count": 129
        }
      ]
    },
    {
      "cell_type": "code",
      "metadata": {
        "colab": {
          "base_uri": "https://localhost:8080/",
          "height": 265
        },
        "id": "q9vdlJUzaxQx",
        "outputId": "e3288dcc-113e-4122-8a33-6658daf325dd"
      },
      "source": [
        "#plotting\n",
        "look_back=100\n",
        "trainpredictplot=np.empty_like(df1)\n",
        "trainpredictplot[:,:]=np.nan\n",
        "trainpredictplot[look_back:len(train_predict)+look_back,:]=train_predict\n",
        "testpredictplot=np.empty_like(df1)\n",
        "testpredictplot[:,:]=np.nan\n",
        "testpredictplot[len(train_predict)+(look_back*2)+1:len(df1)-1,:]=test_predict\n",
        "plt.plot(scaler.inverse_transform(df1))\n",
        "plt.plot(trainpredictplot)\n",
        "plt.plot(testpredictplot)\n",
        "plt.show()"
      ],
      "execution_count": 130,
      "outputs": [
        {
          "output_type": "display_data",
          "data": {
            "image/png": "[encoded data removed]",
            "text/plain": [
              "<Figure size 432x288 with 1 Axes>"
            ]
          },
          "metadata": {
            "tags": [],
            "needs_background": "light"
          }
        }
      ]
    },
    {
      "cell_type": "code",
      "metadata": {
        "colab": {
          "base_uri": "https://localhost:8080/"
        },
        "id": "iPETUTg6c2dJ",
        "outputId": "9ea8b489-3a8f-46a2-83bf-eeeb837791af"
      },
      "source": [
        "x_input=test_data[341:].reshape(1,-1)\n",
        "x_input"
      ],
      "execution_count": 131,
      "outputs": [
        {
          "output_type": "execute_result",
          "data": {
            "text/plain": [
              "array([[0.85835515, 0.8866419 , 0.87431394, 0.88431985, 0.87836697,\n",
              "        0.8986321 , 0.92582116, 0.92877649, 0.95676771, 0.93869797,\n",
              "        0.93304061, 0.94950604, 0.96424048, 0.95512117, 0.95989192,\n",
              "        0.96635143, 0.96246728, 0.92295027, 0.9598497 , 0.98792536,\n",
              "        0.98594106, 0.92531453, 0.92172591, 0.96474711, 0.97572406,\n",
              "        0.99159841, 0.96972895, 0.97614625, 0.96795575, 1.        ,\n",
              "        0.99016297, 0.99050072, 0.96538039, 0.98488559, 0.97086887,\n",
              "        0.94026007, 0.87748037, 0.83483915, 0.85413324, 0.77336823,\n",
              "        0.77269273, 0.88014017, 0.84007431, 0.89673225, 0.85527316,\n",
              "        0.83884995, 0.74233725, 0.82327113, 0.78143207, 0.6665963 ,\n",
              "        0.7921557 , 0.64118044, 0.68614371, 0.66001013, 0.65203074,\n",
              "        0.58642236, 0.56586169, 0.66089673, 0.65515494, 0.70970193,\n",
              "        0.66452757, 0.69437642, 0.69218104, 0.63569197, 0.65266402,\n",
              "        0.63780292, 0.7267162 , 0.71388162, 0.74191506, 0.75002111,\n",
              "        0.77222832, 0.83049059, 0.8194292 , 0.8289707 , 0.8125475 ,\n",
              "        0.78776492, 0.75162543, 0.78426074, 0.77974331, 0.81326522,\n",
              "        0.8141096 , 0.79473106, 0.83336148, 0.85898843, 0.83901883,\n",
              "        0.85628641, 0.87486279, 0.88782403, 0.90095415, 0.92793211,\n",
              "        0.948535  , 0.93333615, 0.91746179, 0.92544119, 0.91771511,\n",
              "        0.9483239 , 0.94064004, 0.96635143, 0.9563033 , 0.96491598]])"
            ]
          },
          "metadata": {
            "tags": []
          },
          "execution_count": 131
        }
      ]
    },
    {
      "cell_type": "code",
      "metadata": {
        "id": "fBiY2JSbdeBQ"
      },
      "source": [
        "temp_input=list(x_input)\n",
        "temp_input=temp_input[0].tolist()"
      ],
      "execution_count": 133,
      "outputs": []
    },
    {
      "cell_type": "code",
      "metadata": {
        "colab": {
          "base_uri": "https://localhost:8080/"
        },
        "id": "JKTs2lcykb2S",
        "outputId": "ee8a4ffa-0aa1-4133-fdcc-98a9701395bb"
      },
      "source": [
        "# demonstrate prediction for next 10 days\n",
        "from numpy import array\n",
        "\n",
        "lst_output=[]\n",
        "n_steps=100\n",
        "i=0\n",
        "while(i<30):\n",
        "    \n",
        "    if(len(temp_input)>100):\n",
        "        #print(temp_input)\n",
        "        x_input=np.array(temp_input[1:])\n",
        "        print(\"{} day input {}\".format(i,x_input))\n",
        "        x_input=x_input.reshape(1,-1)\n",
        "        x_input = x_input.reshape((1, n_steps, 1))\n",
        "        #print(x_input)\n",
        "        yhat = model.predict(x_input, verbose=0)\n",
        "        print(\"{} day output {}\".format(i,yhat))\n",
        "        temp_input.extend(yhat[0].tolist())\n",
        "        temp_input=temp_input[1:]\n",
        "        #print(temp_input)\n",
        "        lst_output.extend(yhat.tolist())\n",
        "        i=i+1\n",
        "    else:\n",
        "        x_input = x_input.reshape((1, n_steps,1))\n",
        "        yhat = model.predict(x_input, verbose=0)\n",
        "        print(yhat[0])\n",
        "        temp_input.extend(yhat[0].tolist())\n",
        "        print(len(temp_input))\n",
        "        lst_output.extend(yhat.tolist())\n",
        "        i=i+1\n",
        "    \n",
        "\n",
        "print(lst_output)"
      ],
      "execution_count": 134,
      "outputs": [
        {
          "output_type": "stream",
          "text": [
            "[0.96349645]\n",
            "101\n",
            "1 day input [0.8866419  0.87431394 0.88431985 0.87836697 0.8986321  0.92582116\n",
            " 0.92877649 0.95676771 0.93869797 0.93304061 0.94950604 0.96424048\n",
            " 0.95512117 0.95989192 0.96635143 0.96246728 0.92295027 0.9598497\n",
            " 0.98792536 0.98594106 0.92531453 0.92172591 0.96474711 0.97572406\n",
            " 0.99159841 0.96972895 0.97614625 0.96795575 1.         0.99016297\n",
            " 0.99050072 0.96538039 0.98488559 0.97086887 0.94026007 0.87748037\n",
            " 0.83483915 0.85413324 0.77336823 0.77269273 0.88014017 0.84007431\n",
            " 0.89673225 0.85527316 0.83884995 0.74233725 0.82327113 0.78143207\n",
            " 0.6665963  0.7921557  0.64118044 0.68614371 0.66001013 0.65203074\n",
            " 0.58642236 0.56586169 0.66089673 0.65515494 0.70970193 0.66452757\n",
            " 0.69437642 0.69218104 0.63569197 0.65266402 0.63780292 0.7267162\n",
            " 0.71388162 0.74191506 0.75002111 0.77222832 0.83049059 0.8194292\n",
            " 0.8289707  0.8125475  0.78776492 0.75162543 0.78426074 0.77974331\n",
            " 0.81326522 0.8141096  0.79473106 0.83336148 0.85898843 0.83901883\n",
            " 0.85628641 0.87486279 0.88782403 0.90095415 0.92793211 0.948535\n",
            " 0.93333615 0.91746179 0.92544119 0.91771511 0.9483239  0.94064004\n",
            " 0.96635143 0.9563033  0.96491598 0.96349645]\n",
            "1 day output [[0.9611247]]\n",
            "2 day input [0.87431394 0.88431985 0.87836697 0.8986321  0.92582116 0.92877649\n",
            " 0.95676771 0.93869797 0.93304061 0.94950604 0.96424048 0.95512117\n",
            " 0.95989192 0.96635143 0.96246728 0.92295027 0.9598497  0.98792536\n",
            " 0.98594106 0.92531453 0.92172591 0.96474711 0.97572406 0.99159841\n",
            " 0.96972895 0.97614625 0.96795575 1.         0.99016297 0.99050072\n",
            " 0.96538039 0.98488559 0.97086887 0.94026007 0.87748037 0.83483915\n",
            " 0.85413324 0.77336823 0.77269273 0.88014017 0.84007431 0.89673225\n",
            " 0.85527316 0.83884995 0.74233725 0.82327113 0.78143207 0.6665963\n",
            " 0.7921557  0.64118044 0.68614371 0.66001013 0.65203074 0.58642236\n",
            " 0.56586169 0.66089673 0.65515494 0.70970193 0.66452757 0.69437642\n",
            " 0.69218104 0.63569197 0.65266402 0.63780292 0.7267162  0.71388162\n",
            " 0.74191506 0.75002111 0.77222832 0.83049059 0.8194292  0.8289707\n",
            " 0.8125475  0.78776492 0.75162543 0.78426074 0.77974331 0.81326522\n",
            " 0.8141096  0.79473106 0.83336148 0.85898843 0.83901883 0.85628641\n",
            " 0.87486279 0.88782403 0.90095415 0.92793211 0.948535   0.93333615\n",
            " 0.91746179 0.92544119 0.91771511 0.9483239  0.94064004 0.96635143\n",
            " 0.9563033  0.96491598 0.96349645 0.96112472]\n",
            "2 day output [[0.95776063]]\n",
            "3 day input [0.88431985 0.87836697 0.8986321  0.92582116 0.92877649 0.95676771\n",
            " 0.93869797 0.93304061 0.94950604 0.96424048 0.95512117 0.95989192\n",
            " 0.96635143 0.96246728 0.92295027 0.9598497  0.98792536 0.98594106\n",
            " 0.92531453 0.92172591 0.96474711 0.97572406 0.99159841 0.96972895\n",
            " 0.97614625 0.96795575 1.         0.99016297 0.99050072 0.96538039\n",
            " 0.98488559 0.97086887 0.94026007 0.87748037 0.83483915 0.85413324\n",
            " 0.77336823 0.77269273 0.88014017 0.84007431 0.89673225 0.85527316\n",
            " 0.83884995 0.74233725 0.82327113 0.78143207 0.6665963  0.7921557\n",
            " 0.64118044 0.68614371 0.66001013 0.65203074 0.58642236 0.56586169\n",
            " 0.66089673 0.65515494 0.70970193 0.66452757 0.69437642 0.69218104\n",
            " 0.63569197 0.65266402 0.63780292 0.7267162  0.71388162 0.74191506\n",
            " 0.75002111 0.77222832 0.83049059 0.8194292  0.8289707  0.8125475\n",
            " 0.78776492 0.75162543 0.78426074 0.77974331 0.81326522 0.8141096\n",
            " 0.79473106 0.83336148 0.85898843 0.83901883 0.85628641 0.87486279\n",
            " 0.88782403 0.90095415 0.92793211 0.948535   0.93333615 0.91746179\n",
            " 0.92544119 0.91771511 0.9483239  0.94064004 0.96635143 0.9563033\n",
            " 0.96491598 0.96349645 0.96112472 0.95776063]\n",
            "3 day output [[0.9546943]]\n",
            "4 day input [0.87836697 0.8986321  0.92582116 0.92877649 0.95676771 0.93869797\n",
            " 0.93304061 0.94950604 0.96424048 0.95512117 0.95989192 0.96635143\n",
            " 0.96246728 0.92295027 0.9598497  0.98792536 0.98594106 0.92531453\n",
            " 0.92172591 0.96474711 0.97572406 0.99159841 0.96972895 0.97614625\n",
            " 0.96795575 1.         0.99016297 0.99050072 0.96538039 0.98488559\n",
            " 0.97086887 0.94026007 0.87748037 0.83483915 0.85413324 0.77336823\n",
            " 0.77269273 0.88014017 0.84007431 0.89673225 0.85527316 0.83884995\n",
            " 0.74233725 0.82327113 0.78143207 0.6665963  0.7921557  0.64118044\n",
            " 0.68614371 0.66001013 0.65203074 0.58642236 0.56586169 0.66089673\n",
            " 0.65515494 0.70970193 0.66452757 0.69437642 0.69218104 0.63569197\n",
            " 0.65266402 0.63780292 0.7267162  0.71388162 0.74191506 0.75002111\n",
            " 0.77222832 0.83049059 0.8194292  0.8289707  0.8125475  0.78776492\n",
            " 0.75162543 0.78426074 0.77974331 0.81326522 0.8141096  0.79473106\n",
            " 0.83336148 0.85898843 0.83901883 0.85628641 0.87486279 0.88782403\n",
            " 0.90095415 0.92793211 0.948535   0.93333615 0.91746179 0.92544119\n",
            " 0.91771511 0.9483239  0.94064004 0.96635143 0.9563033  0.96491598\n",
            " 0.96349645 0.96112472 0.95776063 0.95469427]\n",
            "4 day output [[0.9529597]]\n",
            "5 day input [0.8986321  0.92582116 0.92877649 0.95676771 0.93869797 0.93304061\n",
            " 0.94950604 0.96424048 0.95512117 0.95989192 0.96635143 0.96246728\n",
            " 0.92295027 0.9598497  0.98792536 0.98594106 0.92531453 0.92172591\n",
            " 0.96474711 0.97572406 0.99159841 0.96972895 0.97614625 0.96795575\n",
            " 1.         0.99016297 0.99050072 0.96538039 0.98488559 0.97086887\n",
            " 0.94026007 0.87748037 0.83483915 0.85413324 0.77336823 0.77269273\n",
            " 0.88014017 0.84007431 0.89673225 0.85527316 0.83884995 0.74233725\n",
            " 0.82327113 0.78143207 0.6665963  0.7921557  0.64118044 0.68614371\n",
            " 0.66001013 0.65203074 0.58642236 0.56586169 0.66089673 0.65515494\n",
            " 0.70970193 0.66452757 0.69437642 0.69218104 0.63569197 0.65266402\n",
            " 0.63780292 0.7267162  0.71388162 0.74191506 0.75002111 0.77222832\n",
            " 0.83049059 0.8194292  0.8289707  0.8125475  0.78776492 0.75162543\n",
            " 0.78426074 0.77974331 0.81326522 0.8141096  0.79473106 0.83336148\n",
            " 0.85898843 0.83901883 0.85628641 0.87486279 0.88782403 0.90095415\n",
            " 0.92793211 0.948535   0.93333615 0.91746179 0.92544119 0.91771511\n",
            " 0.9483239  0.94064004 0.96635143 0.9563033  0.96491598 0.96349645\n",
            " 0.96112472 0.95776063 0.95469427 0.95295972]\n",
            "5 day output [[0.9531969]]\n",
            "6 day input [0.92582116 0.92877649 0.95676771 0.93869797 0.93304061 0.94950604\n",
            " 0.96424048 0.95512117 0.95989192 0.96635143 0.96246728 0.92295027\n",
            " 0.9598497  0.98792536 0.98594106 0.92531453 0.92172591 0.96474711\n",
            " 0.97572406 0.99159841 0.96972895 0.97614625 0.96795575 1.\n",
            " 0.99016297 0.99050072 0.96538039 0.98488559 0.97086887 0.94026007\n",
            " 0.87748037 0.83483915 0.85413324 0.77336823 0.77269273 0.88014017\n",
            " 0.84007431 0.89673225 0.85527316 0.83884995 0.74233725 0.82327113\n",
            " 0.78143207 0.6665963  0.7921557  0.64118044 0.68614371 0.66001013\n",
            " 0.65203074 0.58642236 0.56586169 0.66089673 0.65515494 0.70970193\n",
            " 0.66452757 0.69437642 0.69218104 0.63569197 0.65266402 0.63780292\n",
            " 0.7267162  0.71388162 0.74191506 0.75002111 0.77222832 0.83049059\n",
            " 0.8194292  0.8289707  0.8125475  0.78776492 0.75162543 0.78426074\n",
            " 0.77974331 0.81326522 0.8141096  0.79473106 0.83336148 0.85898843\n",
            " 0.83901883 0.85628641 0.87486279 0.88782403 0.90095415 0.92793211\n",
            " 0.948535   0.93333615 0.91746179 0.92544119 0.91771511 0.9483239\n",
            " 0.94064004 0.96635143 0.9563033  0.96491598 0.96349645 0.96112472\n",
            " 0.95776063 0.95469427 0.95295972 0.95319688]\n",
            "6 day output [[0.9555749]]\n",
            "7 day input [0.92877649 0.95676771 0.93869797 0.93304061 0.94950604 0.96424048\n",
            " 0.95512117 0.95989192 0.96635143 0.96246728 0.92295027 0.9598497\n",
            " 0.98792536 0.98594106 0.92531453 0.92172591 0.96474711 0.97572406\n",
            " 0.99159841 0.96972895 0.97614625 0.96795575 1.         0.99016297\n",
            " 0.99050072 0.96538039 0.98488559 0.97086887 0.94026007 0.87748037\n",
            " 0.83483915 0.85413324 0.77336823 0.77269273 0.88014017 0.84007431\n",
            " 0.89673225 0.85527316 0.83884995 0.74233725 0.82327113 0.78143207\n",
            " 0.6665963  0.7921557  0.64118044 0.68614371 0.66001013 0.65203074\n",
            " 0.58642236 0.56586169 0.66089673 0.65515494 0.70970193 0.66452757\n",
            " 0.69437642 0.69218104 0.63569197 0.65266402 0.63780292 0.7267162\n",
            " 0.71388162 0.74191506 0.75002111 0.77222832 0.83049059 0.8194292\n",
            " 0.8289707  0.8125475  0.78776492 0.75162543 0.78426074 0.77974331\n",
            " 0.81326522 0.8141096  0.79473106 0.83336148 0.85898843 0.83901883\n",
            " 0.85628641 0.87486279 0.88782403 0.90095415 0.92793211 0.948535\n",
            " 0.93333615 0.91746179 0.92544119 0.91771511 0.9483239  0.94064004\n",
            " 0.96635143 0.9563033  0.96491598 0.96349645 0.96112472 0.95776063\n",
            " 0.95469427 0.95295972 0.95319688 0.95557493]\n",
            "7 day output [[0.9598162]]\n",
            "8 day input [0.95676771 0.93869797 0.93304061 0.94950604 0.96424048 0.95512117\n",
            " 0.95989192 0.96635143 0.96246728 0.92295027 0.9598497  0.98792536\n",
            " 0.98594106 0.92531453 0.92172591 0.96474711 0.97572406 0.99159841\n",
            " 0.96972895 0.97614625 0.96795575 1.         0.99016297 0.99050072\n",
            " 0.96538039 0.98488559 0.97086887 0.94026007 0.87748037 0.83483915\n",
            " 0.85413324 0.77336823 0.77269273 0.88014017 0.84007431 0.89673225\n",
            " 0.85527316 0.83884995 0.74233725 0.82327113 0.78143207 0.6665963\n",
            " 0.7921557  0.64118044 0.68614371 0.66001013 0.65203074 0.58642236\n",
            " 0.56586169 0.66089673 0.65515494 0.70970193 0.66452757 0.69437642\n",
            " 0.69218104 0.63569197 0.65266402 0.63780292 0.7267162  0.71388162\n",
            " 0.74191506 0.75002111 0.77222832 0.83049059 0.8194292  0.8289707\n",
            " 0.8125475  0.78776492 0.75162543 0.78426074 0.77974331 0.81326522\n",
            " 0.8141096  0.79473106 0.83336148 0.85898843 0.83901883 0.85628641\n",
            " 0.87486279 0.88782403 0.90095415 0.92793211 0.948535   0.93333615\n",
            " 0.91746179 0.92544119 0.91771511 0.9483239  0.94064004 0.96635143\n",
            " 0.9563033  0.96491598 0.96349645 0.96112472 0.95776063 0.95469427\n",
            " 0.95295972 0.95319688 0.95557493 0.95981622]\n",
            "8 day output [[0.9653147]]\n",
            "9 day input [0.93869797 0.93304061 0.94950604 0.96424048 0.95512117 0.95989192\n",
            " 0.96635143 0.96246728 0.92295027 0.9598497  0.98792536 0.98594106\n",
            " 0.92531453 0.92172591 0.96474711 0.97572406 0.99159841 0.96972895\n",
            " 0.97614625 0.96795575 1.         0.99016297 0.99050072 0.96538039\n",
            " 0.98488559 0.97086887 0.94026007 0.87748037 0.83483915 0.85413324\n",
            " 0.77336823 0.77269273 0.88014017 0.84007431 0.89673225 0.85527316\n",
            " 0.83884995 0.74233725 0.82327113 0.78143207 0.6665963  0.7921557\n",
            " 0.64118044 0.68614371 0.66001013 0.65203074 0.58642236 0.56586169\n",
            " 0.66089673 0.65515494 0.70970193 0.66452757 0.69437642 0.69218104\n",
            " 0.63569197 0.65266402 0.63780292 0.7267162  0.71388162 0.74191506\n",
            " 0.75002111 0.77222832 0.83049059 0.8194292  0.8289707  0.8125475\n",
            " 0.78776492 0.75162543 0.78426074 0.77974331 0.81326522 0.8141096\n",
            " 0.79473106 0.83336148 0.85898843 0.83901883 0.85628641 0.87486279\n",
            " 0.88782403 0.90095415 0.92793211 0.948535   0.93333615 0.91746179\n",
            " 0.92544119 0.91771511 0.9483239  0.94064004 0.96635143 0.9563033\n",
            " 0.96491598 0.96349645 0.96112472 0.95776063 0.95469427 0.95295972\n",
            " 0.95319688 0.95557493 0.95981622 0.96531469]\n",
            "9 day output [[0.97130466]]\n",
            "10 day input [0.93304061 0.94950604 0.96424048 0.95512117 0.95989192 0.96635143\n",
            " 0.96246728 0.92295027 0.9598497  0.98792536 0.98594106 0.92531453\n",
            " 0.92172591 0.96474711 0.97572406 0.99159841 0.96972895 0.97614625\n",
            " 0.96795575 1.         0.99016297 0.99050072 0.96538039 0.98488559\n",
            " 0.97086887 0.94026007 0.87748037 0.83483915 0.85413324 0.77336823\n",
            " 0.77269273 0.88014017 0.84007431 0.89673225 0.85527316 0.83884995\n",
            " 0.74233725 0.82327113 0.78143207 0.6665963  0.7921557  0.64118044\n",
            " 0.68614371 0.66001013 0.65203074 0.58642236 0.56586169 0.66089673\n",
            " 0.65515494 0.70970193 0.66452757 0.69437642 0.69218104 0.63569197\n",
            " 0.65266402 0.63780292 0.7267162  0.71388162 0.74191506 0.75002111\n",
            " 0.77222832 0.83049059 0.8194292  0.8289707  0.8125475  0.78776492\n",
            " 0.75162543 0.78426074 0.77974331 0.81326522 0.8141096  0.79473106\n",
            " 0.83336148 0.85898843 0.83901883 0.85628641 0.87486279 0.88782403\n",
            " 0.90095415 0.92793211 0.948535   0.93333615 0.91746179 0.92544119\n",
            " 0.91771511 0.9483239  0.94064004 0.96635143 0.9563033  0.96491598\n",
            " 0.96349645 0.96112472 0.95776063 0.95469427 0.95295972 0.95319688\n",
            " 0.95557493 0.95981622 0.96531469 0.97130466]\n",
            "10 day output [[0.9770431]]\n",
            "11 day input [0.94950604 0.96424048 0.95512117 0.95989192 0.96635143 0.96246728\n",
            " 0.92295027 0.9598497  0.98792536 0.98594106 0.92531453 0.92172591\n",
            " 0.96474711 0.97572406 0.99159841 0.96972895 0.97614625 0.96795575\n",
            " 1.         0.99016297 0.99050072 0.96538039 0.98488559 0.97086887\n",
            " 0.94026007 0.87748037 0.83483915 0.85413324 0.77336823 0.77269273\n",
            " 0.88014017 0.84007431 0.89673225 0.85527316 0.83884995 0.74233725\n",
            " 0.82327113 0.78143207 0.6665963  0.7921557  0.64118044 0.68614371\n",
            " 0.66001013 0.65203074 0.58642236 0.56586169 0.66089673 0.65515494\n",
            " 0.70970193 0.66452757 0.69437642 0.69218104 0.63569197 0.65266402\n",
            " 0.63780292 0.7267162  0.71388162 0.74191506 0.75002111 0.77222832\n",
            " 0.83049059 0.8194292  0.8289707  0.8125475  0.78776492 0.75162543\n",
            " 0.78426074 0.77974331 0.81326522 0.8141096  0.79473106 0.83336148\n",
            " 0.85898843 0.83901883 0.85628641 0.87486279 0.88782403 0.90095415\n",
            " 0.92793211 0.948535   0.93333615 0.91746179 0.92544119 0.91771511\n",
            " 0.9483239  0.94064004 0.96635143 0.9563033  0.96491598 0.96349645\n",
            " 0.96112472 0.95776063 0.95469427 0.95295972 0.95319688 0.95557493\n",
            " 0.95981622 0.96531469 0.97130466 0.97704309]\n",
            "11 day output [[0.9819663]]\n",
            "12 day input [0.96424048 0.95512117 0.95989192 0.96635143 0.96246728 0.92295027\n",
            " 0.9598497  0.98792536 0.98594106 0.92531453 0.92172591 0.96474711\n",
            " 0.97572406 0.99159841 0.96972895 0.97614625 0.96795575 1.\n",
            " 0.99016297 0.99050072 0.96538039 0.98488559 0.97086887 0.94026007\n",
            " 0.87748037 0.83483915 0.85413324 0.77336823 0.77269273 0.88014017\n",
            " 0.84007431 0.89673225 0.85527316 0.83884995 0.74233725 0.82327113\n",
            " 0.78143207 0.6665963  0.7921557  0.64118044 0.68614371 0.66001013\n",
            " 0.65203074 0.58642236 0.56586169 0.66089673 0.65515494 0.70970193\n",
            " 0.66452757 0.69437642 0.69218104 0.63569197 0.65266402 0.63780292\n",
            " 0.7267162  0.71388162 0.74191506 0.75002111 0.77222832 0.83049059\n",
            " 0.8194292  0.8289707  0.8125475  0.78776492 0.75162543 0.78426074\n",
            " 0.77974331 0.81326522 0.8141096  0.79473106 0.83336148 0.85898843\n",
            " 0.83901883 0.85628641 0.87486279 0.88782403 0.90095415 0.92793211\n",
            " 0.948535   0.93333615 0.91746179 0.92544119 0.91771511 0.9483239\n",
            " 0.94064004 0.96635143 0.9563033  0.96491598 0.96349645 0.96112472\n",
            " 0.95776063 0.95469427 0.95295972 0.95319688 0.95557493 0.95981622\n",
            " 0.96531469 0.97130466 0.97704309 0.98196632]\n",
            "12 day output [[0.9857894]]\n",
            "13 day input [0.95512117 0.95989192 0.96635143 0.96246728 0.92295027 0.9598497\n",
            " 0.98792536 0.98594106 0.92531453 0.92172591 0.96474711 0.97572406\n",
            " 0.99159841 0.96972895 0.97614625 0.96795575 1.         0.99016297\n",
            " 0.99050072 0.96538039 0.98488559 0.97086887 0.94026007 0.87748037\n",
            " 0.83483915 0.85413324 0.77336823 0.77269273 0.88014017 0.84007431\n",
            " 0.89673225 0.85527316 0.83884995 0.74233725 0.82327113 0.78143207\n",
            " 0.6665963  0.7921557  0.64118044 0.68614371 0.66001013 0.65203074\n",
            " 0.58642236 0.56586169 0.66089673 0.65515494 0.70970193 0.66452757\n",
            " 0.69437642 0.69218104 0.63569197 0.65266402 0.63780292 0.7267162\n",
            " 0.71388162 0.74191506 0.75002111 0.77222832 0.83049059 0.8194292\n",
            " 0.8289707  0.8125475  0.78776492 0.75162543 0.78426074 0.77974331\n",
            " 0.81326522 0.8141096  0.79473106 0.83336148 0.85898843 0.83901883\n",
            " 0.85628641 0.87486279 0.88782403 0.90095415 0.92793211 0.948535\n",
            " 0.93333615 0.91746179 0.92544119 0.91771511 0.9483239  0.94064004\n",
            " 0.96635143 0.9563033  0.96491598 0.96349645 0.96112472 0.95776063\n",
            " 0.95469427 0.95295972 0.95319688 0.95557493 0.95981622 0.96531469\n",
            " 0.97130466 0.97704309 0.98196632 0.98578942]\n",
            "13 day output [[0.9885346]]\n",
            "14 day input [0.95989192 0.96635143 0.96246728 0.92295027 0.9598497  0.98792536\n",
            " 0.98594106 0.92531453 0.92172591 0.96474711 0.97572406 0.99159841\n",
            " 0.96972895 0.97614625 0.96795575 1.         0.99016297 0.99050072\n",
            " 0.96538039 0.98488559 0.97086887 0.94026007 0.87748037 0.83483915\n",
            " 0.85413324 0.77336823 0.77269273 0.88014017 0.84007431 0.89673225\n",
            " 0.85527316 0.83884995 0.74233725 0.82327113 0.78143207 0.6665963\n",
            " 0.7921557  0.64118044 0.68614371 0.66001013 0.65203074 0.58642236\n",
            " 0.56586169 0.66089673 0.65515494 0.70970193 0.66452757 0.69437642\n",
            " 0.69218104 0.63569197 0.65266402 0.63780292 0.7267162  0.71388162\n",
            " 0.74191506 0.75002111 0.77222832 0.83049059 0.8194292  0.8289707\n",
            " 0.8125475  0.78776492 0.75162543 0.78426074 0.77974331 0.81326522\n",
            " 0.8141096  0.79473106 0.83336148 0.85898843 0.83901883 0.85628641\n",
            " 0.87486279 0.88782403 0.90095415 0.92793211 0.948535   0.93333615\n",
            " 0.91746179 0.92544119 0.91771511 0.9483239  0.94064004 0.96635143\n",
            " 0.9563033  0.96491598 0.96349645 0.96112472 0.95776063 0.95469427\n",
            " 0.95295972 0.95319688 0.95557493 0.95981622 0.96531469 0.97130466\n",
            " 0.97704309 0.98196632 0.98578942 0.98853463]\n",
            "14 day output [[0.99048823]]\n",
            "15 day input [0.96635143 0.96246728 0.92295027 0.9598497  0.98792536 0.98594106\n",
            " 0.92531453 0.92172591 0.96474711 0.97572406 0.99159841 0.96972895\n",
            " 0.97614625 0.96795575 1.         0.99016297 0.99050072 0.96538039\n",
            " 0.98488559 0.97086887 0.94026007 0.87748037 0.83483915 0.85413324\n",
            " 0.77336823 0.77269273 0.88014017 0.84007431 0.89673225 0.85527316\n",
            " 0.83884995 0.74233725 0.82327113 0.78143207 0.6665963  0.7921557\n",
            " 0.64118044 0.68614371 0.66001013 0.65203074 0.58642236 0.56586169\n",
            " 0.66089673 0.65515494 0.70970193 0.66452757 0.69437642 0.69218104\n",
            " 0.63569197 0.65266402 0.63780292 0.7267162  0.71388162 0.74191506\n",
            " 0.75002111 0.77222832 0.83049059 0.8194292  0.8289707  0.8125475\n",
            " 0.78776492 0.75162543 0.78426074 0.77974331 0.81326522 0.8141096\n",
            " 0.79473106 0.83336148 0.85898843 0.83901883 0.85628641 0.87486279\n",
            " 0.88782403 0.90095415 0.92793211 0.948535   0.93333615 0.91746179\n",
            " 0.92544119 0.91771511 0.9483239  0.94064004 0.96635143 0.9563033\n",
            " 0.96491598 0.96349645 0.96112472 0.95776063 0.95469427 0.95295972\n",
            " 0.95319688 0.95557493 0.95981622 0.96531469 0.97130466 0.97704309\n",
            " 0.98196632 0.98578942 0.98853463 0.99048823]\n",
            "15 day output [[0.99210334]]\n",
            "16 day input [0.96246728 0.92295027 0.9598497  0.98792536 0.98594106 0.92531453\n",
            " 0.92172591 0.96474711 0.97572406 0.99159841 0.96972895 0.97614625\n",
            " 0.96795575 1.         0.99016297 0.99050072 0.96538039 0.98488559\n",
            " 0.97086887 0.94026007 0.87748037 0.83483915 0.85413324 0.77336823\n",
            " 0.77269273 0.88014017 0.84007431 0.89673225 0.85527316 0.83884995\n",
            " 0.74233725 0.82327113 0.78143207 0.6665963  0.7921557  0.64118044\n",
            " 0.68614371 0.66001013 0.65203074 0.58642236 0.56586169 0.66089673\n",
            " 0.65515494 0.70970193 0.66452757 0.69437642 0.69218104 0.63569197\n",
            " 0.65266402 0.63780292 0.7267162  0.71388162 0.74191506 0.75002111\n",
            " 0.77222832 0.83049059 0.8194292  0.8289707  0.8125475  0.78776492\n",
            " 0.75162543 0.78426074 0.77974331 0.81326522 0.8141096  0.79473106\n",
            " 0.83336148 0.85898843 0.83901883 0.85628641 0.87486279 0.88782403\n",
            " 0.90095415 0.92793211 0.948535   0.93333615 0.91746179 0.92544119\n",
            " 0.91771511 0.9483239  0.94064004 0.96635143 0.9563033  0.96491598\n",
            " 0.96349645 0.96112472 0.95776063 0.95469427 0.95295972 0.95319688\n",
            " 0.95557493 0.95981622 0.96531469 0.97130466 0.97704309 0.98196632\n",
            " 0.98578942 0.98853463 0.99048823 0.99210334]\n",
            "16 day output [[0.993876]]\n",
            "17 day input [0.92295027 0.9598497  0.98792536 0.98594106 0.92531453 0.92172591\n",
            " 0.96474711 0.97572406 0.99159841 0.96972895 0.97614625 0.96795575\n",
            " 1.         0.99016297 0.99050072 0.96538039 0.98488559 0.97086887\n",
            " 0.94026007 0.87748037 0.83483915 0.85413324 0.77336823 0.77269273\n",
            " 0.88014017 0.84007431 0.89673225 0.85527316 0.83884995 0.74233725\n",
            " 0.82327113 0.78143207 0.6665963  0.7921557  0.64118044 0.68614371\n",
            " 0.66001013 0.65203074 0.58642236 0.56586169 0.66089673 0.65515494\n",
            " 0.70970193 0.66452757 0.69437642 0.69218104 0.63569197 0.65266402\n",
            " 0.63780292 0.7267162  0.71388162 0.74191506 0.75002111 0.77222832\n",
            " 0.83049059 0.8194292  0.8289707  0.8125475  0.78776492 0.75162543\n",
            " 0.78426074 0.77974331 0.81326522 0.8141096  0.79473106 0.83336148\n",
            " 0.85898843 0.83901883 0.85628641 0.87486279 0.88782403 0.90095415\n",
            " 0.92793211 0.948535   0.93333615 0.91746179 0.92544119 0.91771511\n",
            " 0.9483239  0.94064004 0.96635143 0.9563033  0.96491598 0.96349645\n",
            " 0.96112472 0.95776063 0.95469427 0.95295972 0.95319688 0.95557493\n",
            " 0.95981622 0.96531469 0.97130466 0.97704309 0.98196632 0.98578942\n",
            " 0.98853463 0.99048823 0.99210334 0.99387598]\n",
            "17 day output [[0.99622536]]\n",
            "18 day input [0.9598497  0.98792536 0.98594106 0.92531453 0.92172591 0.96474711\n",
            " 0.97572406 0.99159841 0.96972895 0.97614625 0.96795575 1.\n",
            " 0.99016297 0.99050072 0.96538039 0.98488559 0.97086887 0.94026007\n",
            " 0.87748037 0.83483915 0.85413324 0.77336823 0.77269273 0.88014017\n",
            " 0.84007431 0.89673225 0.85527316 0.83884995 0.74233725 0.82327113\n",
            " 0.78143207 0.6665963  0.7921557  0.64118044 0.68614371 0.66001013\n",
            " 0.65203074 0.58642236 0.56586169 0.66089673 0.65515494 0.70970193\n",
            " 0.66452757 0.69437642 0.69218104 0.63569197 0.65266402 0.63780292\n",
            " 0.7267162  0.71388162 0.74191506 0.75002111 0.77222832 0.83049059\n",
            " 0.8194292  0.8289707  0.8125475  0.78776492 0.75162543 0.78426074\n",
            " 0.77974331 0.81326522 0.8141096  0.79473106 0.83336148 0.85898843\n",
            " 0.83901883 0.85628641 0.87486279 0.88782403 0.90095415 0.92793211\n",
            " 0.948535   0.93333615 0.91746179 0.92544119 0.91771511 0.9483239\n",
            " 0.94064004 0.96635143 0.9563033  0.96491598 0.96349645 0.96112472\n",
            " 0.95776063 0.95469427 0.95295972 0.95319688 0.95557493 0.95981622\n",
            " 0.96531469 0.97130466 0.97704309 0.98196632 0.98578942 0.98853463\n",
            " 0.99048823 0.99210334 0.99387598 0.99622536]\n",
            "18 day output [[0.99940753]]\n",
            "19 day input [0.98792536 0.98594106 0.92531453 0.92172591 0.96474711 0.97572406\n",
            " 0.99159841 0.96972895 0.97614625 0.96795575 1.         0.99016297\n",
            " 0.99050072 0.96538039 0.98488559 0.97086887 0.94026007 0.87748037\n",
            " 0.83483915 0.85413324 0.77336823 0.77269273 0.88014017 0.84007431\n",
            " 0.89673225 0.85527316 0.83884995 0.74233725 0.82327113 0.78143207\n",
            " 0.6665963  0.7921557  0.64118044 0.68614371 0.66001013 0.65203074\n",
            " 0.58642236 0.56586169 0.66089673 0.65515494 0.70970193 0.66452757\n",
            " 0.69437642 0.69218104 0.63569197 0.65266402 0.63780292 0.7267162\n",
            " 0.71388162 0.74191506 0.75002111 0.77222832 0.83049059 0.8194292\n",
            " 0.8289707  0.8125475  0.78776492 0.75162543 0.78426074 0.77974331\n",
            " 0.81326522 0.8141096  0.79473106 0.83336148 0.85898843 0.83901883\n",
            " 0.85628641 0.87486279 0.88782403 0.90095415 0.92793211 0.948535\n",
            " 0.93333615 0.91746179 0.92544119 0.91771511 0.9483239  0.94064004\n",
            " 0.96635143 0.9563033  0.96491598 0.96349645 0.96112472 0.95776063\n",
            " 0.95469427 0.95295972 0.95319688 0.95557493 0.95981622 0.96531469\n",
            " 0.97130466 0.97704309 0.98196632 0.98578942 0.98853463 0.99048823\n",
            " 0.99210334 0.99387598 0.99622536 0.99940753]\n",
            "19 day output [[1.0034736]]\n",
            "20 day input [0.98594106 0.92531453 0.92172591 0.96474711 0.97572406 0.99159841\n",
            " 0.96972895 0.97614625 0.96795575 1.         0.99016297 0.99050072\n",
            " 0.96538039 0.98488559 0.97086887 0.94026007 0.87748037 0.83483915\n",
            " 0.85413324 0.77336823 0.77269273 0.88014017 0.84007431 0.89673225\n",
            " 0.85527316 0.83884995 0.74233725 0.82327113 0.78143207 0.6665963\n",
            " 0.7921557  0.64118044 0.68614371 0.66001013 0.65203074 0.58642236\n",
            " 0.56586169 0.66089673 0.65515494 0.70970193 0.66452757 0.69437642\n",
            " 0.69218104 0.63569197 0.65266402 0.63780292 0.7267162  0.71388162\n",
            " 0.74191506 0.75002111 0.77222832 0.83049059 0.8194292  0.8289707\n",
            " 0.8125475  0.78776492 0.75162543 0.78426074 0.77974331 0.81326522\n",
            " 0.8141096  0.79473106 0.83336148 0.85898843 0.83901883 0.85628641\n",
            " 0.87486279 0.88782403 0.90095415 0.92793211 0.948535   0.93333615\n",
            " 0.91746179 0.92544119 0.91771511 0.9483239  0.94064004 0.96635143\n",
            " 0.9563033  0.96491598 0.96349645 0.96112472 0.95776063 0.95469427\n",
            " 0.95295972 0.95319688 0.95557493 0.95981622 0.96531469 0.97130466\n",
            " 0.97704309 0.98196632 0.98578942 0.98853463 0.99048823 0.99210334\n",
            " 0.99387598 0.99622536 0.99940753 1.00347364]\n",
            "20 day output [[1.0082805]]\n",
            "21 day input [0.92531453 0.92172591 0.96474711 0.97572406 0.99159841 0.96972895\n",
            " 0.97614625 0.96795575 1.         0.99016297 0.99050072 0.96538039\n",
            " 0.98488559 0.97086887 0.94026007 0.87748037 0.83483915 0.85413324\n",
            " 0.77336823 0.77269273 0.88014017 0.84007431 0.89673225 0.85527316\n",
            " 0.83884995 0.74233725 0.82327113 0.78143207 0.6665963  0.7921557\n",
            " 0.64118044 0.68614371 0.66001013 0.65203074 0.58642236 0.56586169\n",
            " 0.66089673 0.65515494 0.70970193 0.66452757 0.69437642 0.69218104\n",
            " 0.63569197 0.65266402 0.63780292 0.7267162  0.71388162 0.74191506\n",
            " 0.75002111 0.77222832 0.83049059 0.8194292  0.8289707  0.8125475\n",
            " 0.78776492 0.75162543 0.78426074 0.77974331 0.81326522 0.8141096\n",
            " 0.79473106 0.83336148 0.85898843 0.83901883 0.85628641 0.87486279\n",
            " 0.88782403 0.90095415 0.92793211 0.948535   0.93333615 0.91746179\n",
            " 0.92544119 0.91771511 0.9483239  0.94064004 0.96635143 0.9563033\n",
            " 0.96491598 0.96349645 0.96112472 0.95776063 0.95469427 0.95295972\n",
            " 0.95319688 0.95557493 0.95981622 0.96531469 0.97130466 0.97704309\n",
            " 0.98196632 0.98578942 0.98853463 0.99048823 0.99210334 0.99387598\n",
            " 0.99622536 0.99940753 1.00347364 1.00828052]\n",
            "21 day output [[1.0135428]]\n",
            "22 day input [0.92172591 0.96474711 0.97572406 0.99159841 0.96972895 0.97614625\n",
            " 0.96795575 1.         0.99016297 0.99050072 0.96538039 0.98488559\n",
            " 0.97086887 0.94026007 0.87748037 0.83483915 0.85413324 0.77336823\n",
            " 0.77269273 0.88014017 0.84007431 0.89673225 0.85527316 0.83884995\n",
            " 0.74233725 0.82327113 0.78143207 0.6665963  0.7921557  0.64118044\n",
            " 0.68614371 0.66001013 0.65203074 0.58642236 0.56586169 0.66089673\n",
            " 0.65515494 0.70970193 0.66452757 0.69437642 0.69218104 0.63569197\n",
            " 0.65266402 0.63780292 0.7267162  0.71388162 0.74191506 0.75002111\n",
            " 0.77222832 0.83049059 0.8194292  0.8289707  0.8125475  0.78776492\n",
            " 0.75162543 0.78426074 0.77974331 0.81326522 0.8141096  0.79473106\n",
            " 0.83336148 0.85898843 0.83901883 0.85628641 0.87486279 0.88782403\n",
            " 0.90095415 0.92793211 0.948535   0.93333615 0.91746179 0.92544119\n",
            " 0.91771511 0.9483239  0.94064004 0.96635143 0.9563033  0.96491598\n",
            " 0.96349645 0.96112472 0.95776063 0.95469427 0.95295972 0.95319688\n",
            " 0.95557493 0.95981622 0.96531469 0.97130466 0.97704309 0.98196632\n",
            " 0.98578942 0.98853463 0.99048823 0.99210334 0.99387598 0.99622536\n",
            " 0.99940753 1.00347364 1.00828052 1.01354277]\n",
            "22 day output [[1.0189106]]\n",
            "23 day input [0.96474711 0.97572406 0.99159841 0.96972895 0.97614625 0.96795575\n",
            " 1.         0.99016297 0.99050072 0.96538039 0.98488559 0.97086887\n",
            " 0.94026007 0.87748037 0.83483915 0.85413324 0.77336823 0.77269273\n",
            " 0.88014017 0.84007431 0.89673225 0.85527316 0.83884995 0.74233725\n",
            " 0.82327113 0.78143207 0.6665963  0.7921557  0.64118044 0.68614371\n",
            " 0.66001013 0.65203074 0.58642236 0.56586169 0.66089673 0.65515494\n",
            " 0.70970193 0.66452757 0.69437642 0.69218104 0.63569197 0.65266402\n",
            " 0.63780292 0.7267162  0.71388162 0.74191506 0.75002111 0.77222832\n",
            " 0.83049059 0.8194292  0.8289707  0.8125475  0.78776492 0.75162543\n",
            " 0.78426074 0.77974331 0.81326522 0.8141096  0.79473106 0.83336148\n",
            " 0.85898843 0.83901883 0.85628641 0.87486279 0.88782403 0.90095415\n",
            " 0.92793211 0.948535   0.93333615 0.91746179 0.92544119 0.91771511\n",
            " 0.9483239  0.94064004 0.96635143 0.9563033  0.96491598 0.96349645\n",
            " 0.96112472 0.95776063 0.95469427 0.95295972 0.95319688 0.95557493\n",
            " 0.95981622 0.96531469 0.97130466 0.97704309 0.98196632 0.98578942\n",
            " 0.98853463 0.99048823 0.99210334 0.99387598 0.99622536 0.99940753\n",
            " 1.00347364 1.00828052 1.01354277 1.01891065]\n",
            "23 day output [[1.0240525]]\n",
            "24 day input [0.97572406 0.99159841 0.96972895 0.97614625 0.96795575 1.\n",
            " 0.99016297 0.99050072 0.96538039 0.98488559 0.97086887 0.94026007\n",
            " 0.87748037 0.83483915 0.85413324 0.77336823 0.77269273 0.88014017\n",
            " 0.84007431 0.89673225 0.85527316 0.83884995 0.74233725 0.82327113\n",
            " 0.78143207 0.6665963  0.7921557  0.64118044 0.68614371 0.66001013\n",
            " 0.65203074 0.58642236 0.56586169 0.66089673 0.65515494 0.70970193\n",
            " 0.66452757 0.69437642 0.69218104 0.63569197 0.65266402 0.63780292\n",
            " 0.7267162  0.71388162 0.74191506 0.75002111 0.77222832 0.83049059\n",
            " 0.8194292  0.8289707  0.8125475  0.78776492 0.75162543 0.78426074\n",
            " 0.77974331 0.81326522 0.8141096  0.79473106 0.83336148 0.85898843\n",
            " 0.83901883 0.85628641 0.87486279 0.88782403 0.90095415 0.92793211\n",
            " 0.948535   0.93333615 0.91746179 0.92544119 0.91771511 0.9483239\n",
            " 0.94064004 0.96635143 0.9563033  0.96491598 0.96349645 0.96112472\n",
            " 0.95776063 0.95469427 0.95295972 0.95319688 0.95557493 0.95981622\n",
            " 0.96531469 0.97130466 0.97704309 0.98196632 0.98578942 0.98853463\n",
            " 0.99048823 0.99210334 0.99387598 0.99622536 0.99940753 1.00347364\n",
            " 1.00828052 1.01354277 1.01891065 1.0240525 ]\n",
            "24 day output [[1.0287248]]\n",
            "25 day input [0.99159841 0.96972895 0.97614625 0.96795575 1.         0.99016297\n",
            " 0.99050072 0.96538039 0.98488559 0.97086887 0.94026007 0.87748037\n",
            " 0.83483915 0.85413324 0.77336823 0.77269273 0.88014017 0.84007431\n",
            " 0.89673225 0.85527316 0.83884995 0.74233725 0.82327113 0.78143207\n",
            " 0.6665963  0.7921557  0.64118044 0.68614371 0.66001013 0.65203074\n",
            " 0.58642236 0.56586169 0.66089673 0.65515494 0.70970193 0.66452757\n",
            " 0.69437642 0.69218104 0.63569197 0.65266402 0.63780292 0.7267162\n",
            " 0.71388162 0.74191506 0.75002111 0.77222832 0.83049059 0.8194292\n",
            " 0.8289707  0.8125475  0.78776492 0.75162543 0.78426074 0.77974331\n",
            " 0.81326522 0.8141096  0.79473106 0.83336148 0.85898843 0.83901883\n",
            " 0.85628641 0.87486279 0.88782403 0.90095415 0.92793211 0.948535\n",
            " 0.93333615 0.91746179 0.92544119 0.91771511 0.9483239  0.94064004\n",
            " 0.96635143 0.9563033  0.96491598 0.96349645 0.96112472 0.95776063\n",
            " 0.95469427 0.95295972 0.95319688 0.95557493 0.95981622 0.96531469\n",
            " 0.97130466 0.97704309 0.98196632 0.98578942 0.98853463 0.99048823\n",
            " 0.99210334 0.99387598 0.99622536 0.99940753 1.00347364 1.00828052\n",
            " 1.01354277 1.01891065 1.0240525  1.02872479]\n",
            "25 day output [[1.0328158]]\n",
            "26 day input [0.96972895 0.97614625 0.96795575 1.         0.99016297 0.99050072\n",
            " 0.96538039 0.98488559 0.97086887 0.94026007 0.87748037 0.83483915\n",
            " 0.85413324 0.77336823 0.77269273 0.88014017 0.84007431 0.89673225\n",
            " 0.85527316 0.83884995 0.74233725 0.82327113 0.78143207 0.6665963\n",
            " 0.7921557  0.64118044 0.68614371 0.66001013 0.65203074 0.58642236\n",
            " 0.56586169 0.66089673 0.65515494 0.70970193 0.66452757 0.69437642\n",
            " 0.69218104 0.63569197 0.65266402 0.63780292 0.7267162  0.71388162\n",
            " 0.74191506 0.75002111 0.77222832 0.83049059 0.8194292  0.8289707\n",
            " 0.8125475  0.78776492 0.75162543 0.78426074 0.77974331 0.81326522\n",
            " 0.8141096  0.79473106 0.83336148 0.85898843 0.83901883 0.85628641\n",
            " 0.87486279 0.88782403 0.90095415 0.92793211 0.948535   0.93333615\n",
            " 0.91746179 0.92544119 0.91771511 0.9483239  0.94064004 0.96635143\n",
            " 0.9563033  0.96491598 0.96349645 0.96112472 0.95776063 0.95469427\n",
            " 0.95295972 0.95319688 0.95557493 0.95981622 0.96531469 0.97130466\n",
            " 0.97704309 0.98196632 0.98578942 0.98853463 0.99048823 0.99210334\n",
            " 0.99387598 0.99622536 0.99940753 1.00347364 1.00828052 1.01354277\n",
            " 1.01891065 1.0240525  1.02872479 1.03281581]\n",
            "26 day output [[1.036353]]\n",
            "27 day input [0.97614625 0.96795575 1.         0.99016297 0.99050072 0.96538039\n",
            " 0.98488559 0.97086887 0.94026007 0.87748037 0.83483915 0.85413324\n",
            " 0.77336823 0.77269273 0.88014017 0.84007431 0.89673225 0.85527316\n",
            " 0.83884995 0.74233725 0.82327113 0.78143207 0.6665963  0.7921557\n",
            " 0.64118044 0.68614371 0.66001013 0.65203074 0.58642236 0.56586169\n",
            " 0.66089673 0.65515494 0.70970193 0.66452757 0.69437642 0.69218104\n",
            " 0.63569197 0.65266402 0.63780292 0.7267162  0.71388162 0.74191506\n",
            " 0.75002111 0.77222832 0.83049059 0.8194292  0.8289707  0.8125475\n",
            " 0.78776492 0.75162543 0.78426074 0.77974331 0.81326522 0.8141096\n",
            " 0.79473106 0.83336148 0.85898843 0.83901883 0.85628641 0.87486279\n",
            " 0.88782403 0.90095415 0.92793211 0.948535   0.93333615 0.91746179\n",
            " 0.92544119 0.91771511 0.9483239  0.94064004 0.96635143 0.9563033\n",
            " 0.96491598 0.96349645 0.96112472 0.95776063 0.95469427 0.95295972\n",
            " 0.95319688 0.95557493 0.95981622 0.96531469 0.97130466 0.97704309\n",
            " 0.98196632 0.98578942 0.98853463 0.99048823 0.99210334 0.99387598\n",
            " 0.99622536 0.99940753 1.00347364 1.00828052 1.01354277 1.01891065\n",
            " 1.0240525  1.02872479 1.03281581 1.03635299]\n",
            "27 day output [[1.0394794]]\n",
            "28 day input [0.96795575 1.         0.99016297 0.99050072 0.96538039 0.98488559\n",
            " 0.97086887 0.94026007 0.87748037 0.83483915 0.85413324 0.77336823\n",
            " 0.77269273 0.88014017 0.84007431 0.89673225 0.85527316 0.83884995\n",
            " 0.74233725 0.82327113 0.78143207 0.6665963  0.7921557  0.64118044\n",
            " 0.68614371 0.66001013 0.65203074 0.58642236 0.56586169 0.66089673\n",
            " 0.65515494 0.70970193 0.66452757 0.69437642 0.69218104 0.63569197\n",
            " 0.65266402 0.63780292 0.7267162  0.71388162 0.74191506 0.75002111\n",
            " 0.77222832 0.83049059 0.8194292  0.8289707  0.8125475  0.78776492\n",
            " 0.75162543 0.78426074 0.77974331 0.81326522 0.8141096  0.79473106\n",
            " 0.83336148 0.85898843 0.83901883 0.85628641 0.87486279 0.88782403\n",
            " 0.90095415 0.92793211 0.948535   0.93333615 0.91746179 0.92544119\n",
            " 0.91771511 0.9483239  0.94064004 0.96635143 0.9563033  0.96491598\n",
            " 0.96349645 0.96112472 0.95776063 0.95469427 0.95295972 0.95319688\n",
            " 0.95557493 0.95981622 0.96531469 0.97130466 0.97704309 0.98196632\n",
            " 0.98578942 0.98853463 0.99048823 0.99210334 0.99387598 0.99622536\n",
            " 0.99940753 1.00347364 1.00828052 1.01354277 1.01891065 1.0240525\n",
            " 1.02872479 1.03281581 1.03635299 1.03947937]\n",
            "28 day output [[1.0424066]]\n",
            "29 day input [1.         0.99016297 0.99050072 0.96538039 0.98488559 0.97086887\n",
            " 0.94026007 0.87748037 0.83483915 0.85413324 0.77336823 0.77269273\n",
            " 0.88014017 0.84007431 0.89673225 0.85527316 0.83884995 0.74233725\n",
            " 0.82327113 0.78143207 0.6665963  0.7921557  0.64118044 0.68614371\n",
            " 0.66001013 0.65203074 0.58642236 0.56586169 0.66089673 0.65515494\n",
            " 0.70970193 0.66452757 0.69437642 0.69218104 0.63569197 0.65266402\n",
            " 0.63780292 0.7267162  0.71388162 0.74191506 0.75002111 0.77222832\n",
            " 0.83049059 0.8194292  0.8289707  0.8125475  0.78776492 0.75162543\n",
            " 0.78426074 0.77974331 0.81326522 0.8141096  0.79473106 0.83336148\n",
            " 0.85898843 0.83901883 0.85628641 0.87486279 0.88782403 0.90095415\n",
            " 0.92793211 0.948535   0.93333615 0.91746179 0.92544119 0.91771511\n",
            " 0.9483239  0.94064004 0.96635143 0.9563033  0.96491598 0.96349645\n",
            " 0.96112472 0.95776063 0.95469427 0.95295972 0.95319688 0.95557493\n",
            " 0.95981622 0.96531469 0.97130466 0.97704309 0.98196632 0.98578942\n",
            " 0.98853463 0.99048823 0.99210334 0.99387598 0.99622536 0.99940753\n",
            " 1.00347364 1.00828052 1.01354277 1.01891065 1.0240525  1.02872479\n",
            " 1.03281581 1.03635299 1.03947937 1.04240656]\n",
            "29 day output [[1.0453566]]\n",
            "[[0.9634964466094971], [0.9611247181892395], [0.9577606320381165], [0.9546942710876465], [0.9529597163200378], [0.9531968832015991], [0.9555749297142029], [0.9598162174224854], [0.9653146862983704], [0.9713046550750732], [0.977043092250824], [0.9819663166999817], [0.98578941822052], [0.9885346293449402], [0.9904882311820984], [0.9921033382415771], [0.9938759803771973], [0.9962253570556641], [0.9994075298309326], [1.0034736394882202], [1.0082805156707764], [1.0135427713394165], [1.0189106464385986], [1.0240525007247925], [1.0287247896194458], [1.0328158140182495], [1.0363529920578003], [1.039479374885559], [1.0424065589904785], [1.0453566312789917]]\n"
          ],
          "name": "stdout"
        }
      ]
    },
    {
      "cell_type": "code",
      "metadata": {
        "id": "YbRJASSZk3IX"
      },
      "source": [
        "day_new=np.arange(1,101)\n",
        "day_pred=np.arange(101,131)"
      ],
      "execution_count": 136,
      "outputs": []
    },
    {
      "cell_type": "code",
      "metadata": {
        "id": "AKDfWhljk7NS"
      },
      "source": [
        "import matplotlib.pyplot as plt"
      ],
      "execution_count": 137,
      "outputs": []
    },
    {
      "cell_type": "code",
      "metadata": {
        "colab": {
          "base_uri": "https://localhost:8080/"
        },
        "id": "sMtOuHHgk7P4",
        "outputId": "84c1ce33-8685-4682-f6ed-33679c5b4bb6"
      },
      "source": [
        "len(df1)"
      ],
      "execution_count": 138,
      "outputs": [
        {
          "output_type": "execute_result",
          "data": {
            "text/plain": [
              "1258"
            ]
          },
          "metadata": {
            "tags": []
          },
          "execution_count": 138
        }
      ]
    },
    {
      "cell_type": "code",
      "metadata": {
        "colab": {
          "base_uri": "https://localhost:8080/",
          "height": 283
        },
        "id": "YXHwyoSOk7TQ",
        "outputId": "fba66253-59aa-4f81-de8a-64f071432a4f"
      },
      "source": [
        "plt.plot(day_new,scaler.inverse_transform(df1[1158:]))\n",
        "plt.plot(day_pred,scaler.inverse_transform(lst_output))"
      ],
      "execution_count": 139,
      "outputs": [
        {
          "output_type": "execute_result",
          "data": {
            "text/plain": [
              "[<matplotlib.lines.Line2D at 0x7facf6dae9d0>]"
            ]
          },
          "metadata": {
            "tags": []
          },
          "execution_count": 139
        },
        {
          "output_type": "display_data",
          "data": {
            "image/png": "[encoded data removed]",
            "text/plain": [
              "<Figure size 432x288 with 1 Axes>"
            ]
          },
          "metadata": {
            "tags": [],
            "needs_background": "light"
          }
        }
      ]
    },
    {
      "cell_type": "code",
      "metadata": {
        "colab": {
          "base_uri": "https://localhost:8080/",
          "height": 283
        },
        "id": "DDg7EaorlFjg",
        "outputId": "617972c0-3b7d-4195-e78c-4a7cd6f51dba"
      },
      "source": [
        "df3=df1.tolist()\n",
        "df3.extend(lst_output)\n",
        "plt.plot(df3[1200:])"
      ],
      "execution_count": 140,
      "outputs": [
        {
          "output_type": "execute_result",
          "data": {
            "text/plain": [
              "[<matplotlib.lines.Line2D at 0x7facf6dac1d0>]"
            ]
          },
          "metadata": {
            "tags": []
          },
          "execution_count": 140
        },
        {
          "output_type": "display_data",
          "data": {
            "image/png": "[encoded data removed]",
            "text/plain": [
              "<Figure size 432x288 with 1 Axes>"
            ]
          },
          "metadata": {
            "tags": [],
            "needs_background": "light"
          }
        }
      ]
    },
    {
      "cell_type": "code",
      "metadata": {
        "id": "QmB5hFrKlFmX"
      },
      "source": [
        "df3=scaler.inverse_transform(df3).tolist()"
      ],
      "execution_count": 141,
      "outputs": []
    },
    {
      "cell_type": "code",
      "metadata": {
        "colab": {
          "base_uri": "https://localhost:8080/",
          "height": 287
        },
        "id": "pxNUwzMHlJmI",
        "outputId": "0bd1a780-3c67-4f68-ab16-3d7367bf6c8d"
      },
      "source": [
        "plt.plot(df3)"
      ],
      "execution_count": 142,
      "outputs": [
        {
          "output_type": "execute_result",
          "data": {
            "text/plain": [
              "[<matplotlib.lines.Line2D at 0x7facf5b0ced0>]"
            ]
          },
          "metadata": {
            "tags": []
          },
          "execution_count": 142
        },
        {
          "output_type": "display_data",
          "data": {
            "image/png": "[encoded data removed]",
            "text/plain": [
              "<Figure size 432x288 with 1 Axes>"
            ]
          },
          "metadata": {
            "tags": [],
            "needs_background": "light"
          }
        }
      ]
    },
    {
      "cell_type": "code",
      "metadata": {
        "colab": {
          "base_uri": "https://localhost:8080/"
        },
        "id": "odZyNkHbdxJZ",
        "outputId": "154ff790-5782-4c13-d0cf-c33e843abd63"
      },
      "source": [
        "#from numpy import array\n",
        "#Ist_output=[]\n",
        "#n_steps=100\n",
        "#i=0\n",
        "#while(i>30):\n",
        "#  if(len(tempt_input)>100):\n",
        "#    x_input=np.array(tempt_input[1:])\n",
        "#    print(\"{} day input {}\".format(i,x_input))\n",
        "#    x_input=x_input.reshape(1,-1)\n",
        "#    x_input=x_input.reshape(1,n_steps,-1)\n",
        "#    yhat=model.predict(x_input,verbose=0)\n",
        "#    print(\"{} day output {}\".format(i,yhat))\n",
        "#    tempt_input.extend(yhat[0].tolist())\n",
        "#    tempt_input=tempt_input[1:]\n",
        "#    Ist_output.extend(yhat[0].tolist())\n",
        "#    i=i+1\n",
        "#  else:\n",
        "#    x_input=x_input.reshape(1,n_steps,1)\n",
        "#    yhat=model.predict(x_input,verbose=0)\n",
        "#    print(yhat[0])\n",
        "#    tempt_input.extend(yhat[0].tolist())\n",
        "#    print(len(tempt_input))\n",
        "#    Ist_output.extend(yhat.tolist())\n",
        "#    i=i+1\n",
        "#print(Ist_output)\n",
        "\n"
      ],
      "execution_count": 119,
      "outputs": [
        {
          "output_type": "stream",
          "text": [
            "[]\n"
          ],
          "name": "stdout"
        }
      ]
    },
    {
      "cell_type": "code",
      "metadata": {
        "id": "OPX1YML6g4L1"
      },
      "source": [
        ""
      ],
      "execution_count": 115,
      "outputs": []
    },
    {
      "cell_type": "code",
      "metadata": {
        "id": "B07gqp-wlDQU"
      },
      "source": [
        ""
      ],
      "execution_count": null,
      "outputs": []
    },
    {
      "cell_type": "code",
      "metadata": {
        "id": "zmr31gc5lDTD"
      },
      "source": [
        ""
      ],
      "execution_count": null,
      "outputs": []
    }
  ]
}